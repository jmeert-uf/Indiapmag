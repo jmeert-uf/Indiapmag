{
 "cells": [
  {
   "cell_type": "markdown",
   "id": "8b08dc1b",
   "metadata": {},
   "source": [
    "### Convert IAPD (Molspin Files) to Magic Format\n",
    "\n",
    "####Dan Thallner 2023- This notebook takes IAPD formatted files from UF Molspin and converts them for use in PmagPy"
   ]
  },
  {
   "cell_type": "code",
   "execution_count": 4,
   "id": "b9bfbea1",
   "metadata": {},
   "outputs": [],
   "source": [
    "# import required packages\n",
    "import os\n",
    "import pandas as pd"
   ]
  },
  {
   "cell_type": "code",
   "execution_count": 7,
   "id": "bcd4ba27",
   "metadata": {},
   "outputs": [],
   "source": [
    "# Start new Magic contribution for locality\n",
    "\n",
    "sites_dict = {'site': [], 'method_codes': [], 'citations': []}\n",
    "samples_dict = {'site': [], 'sample': [],'method_codes': [], 'citations': [],\n",
    "                'azimuth': [], 'dip': [], 'bed_dip_direction': [], 'bed_dip': []}\n",
    "specimens_dict = {'specimen': [], 'sample': [],'method_codes': [],'experiments': [],'volume': [], 'citations': []}\n",
    "measurement_dict = {'specimen': [],'method_codes': [],'dir_dec': [],'dir_inc': [],'magn_volume': [], 'experiment': [],\n",
    "                    'dir_csd': [],'treat_temp':[], 'meas_temp': [],'treat_ac_field': [], 'citations': [],\n",
    "                    'instrument_codes': [],'sequence':[], 'magn_moment': [], 'measurement': []}"
   ]
  },
  {
   "cell_type": "markdown",
   "id": "ba80aea2",
   "metadata": {},
   "source": [
    "### Molspin data files:"
   ]
  },
  {
   "cell_type": "code",
   "execution_count": 8,
   "id": "281f2950",
   "metadata": {},
   "outputs": [
    {
     "name": "stdout",
     "output_type": "stream",
     "text": [
      "Specimens for site I1936 added successfully\n"
     ]
    }
   ],
   "source": [
    "# add measurement data for a site \n",
    "# run this cell once for each directory specified below. Use one directory per site & experiment\n",
    "# bedding dirs, volume unit, intensity unit, a95 == csd?, treat AC field units\n",
    "\n",
    "\n",
    "site_name = 'I1936' # Specify name of site\n",
    "treatment = 'THD' # Specify if the experiment was thermal demag ('THD') or AF demag ('AFD')\n",
    "site_dir_path = r'h:\\Magic2023\\I1936th' # absolute or relative path to directory \n",
    "\n",
    "#---------------------------------------------------------------------------------------------\n",
    "\n",
    "duplicate_site = False\n",
    "if not site_name in sites_dict['site']: sites_dict['site'].append(site_name)\n",
    "else: duplicate_site = True\n",
    "if not duplicate_site: sites_dict['citations'].append('This study')\n",
    "if treatment == 'THD': \n",
    "    if not duplicate_site: \n",
    "        sites_dict['method_codes'].append('LP-DIR-T')\n",
    "    else: \n",
    "        for j in range(len(sites_dict['site'])):\n",
    "            if sites_dict['site'] == site_name:\n",
    "                if not 'LP-DIR-T' in sites_dict['method_codes'][j]:\n",
    "                    sites_dict['method_codes'][j] += ':LP-DIR-T'\n",
    "elif treatment == 'AFD': \n",
    "    if not duplicate_site: \n",
    "        sites_dict['method_codes'].append('LP-DIR-AF')\n",
    "    else: \n",
    "        for j in range(len(sites_dict['site'])):\n",
    "            if sites_dict['site'] == site_name:\n",
    "                if not 'LP-DIR-AF' in sites_dict['method_codes'][j]:\n",
    "                    sites_dict['method_codes'][j] += ':LP-DIR-AF'\n",
    "else: print('Currently, only THD (thermal demag - directions) or AFD (AF demag - directions) are availabe options')\n",
    "\n",
    "if not site_dir_path.endswith('/'): site_dir_path += '/'\n",
    "for root, dirs, files in os.walk(site_dir_path):\n",
    "    for file in files:\n",
    "        with open(root+os.sep+file) as specimen_file:\n",
    "             measurement_data = specimen_file.readlines()\n",
    "        for i in range(len(measurement_data)):\n",
    "            if i == 0:\n",
    "                samples_dict['site'].append(site_name)\n",
    "                samples_dict['citations'].append('This study')\n",
    "                specimens_dict['citations'].append('This study')\n",
    "                header = measurement_data[i].split()\n",
    "                name = header[0]\n",
    "                if treatment == 'THD': \n",
    "                    samples_dict['method_codes'].append('LP-DIR-T')\n",
    "                    specimens_dict['method_codes'].append('LP-DIR-T')\n",
    "                    specimens_dict['experiments'].append(name+'-'+'LP-DIR-T')\n",
    "                elif treatment == 'AFD': \n",
    "                    samples_dict['method_codes'].append('LP-DIR-AF')\n",
    "                    specimens_dict['method_codes'].append('LP-DIR-AF')\n",
    "                    specimens_dict['experiments'].append(name+'-'+'LP-DIR-AF')\n",
    "                samples_dict['sample'].append(name)\n",
    "                specimens_dict['sample'].append(name)\n",
    "                specimens_dict['specimen'].append(name)\n",
    "                bearing = header[1]\n",
    "                samples_dict['azimuth'].append(bearing)\n",
    "                plunge = header[2]\n",
    "                samples_dict['dip'].append(str(float(plunge)-90))\n",
    "                strike = header[3]\n",
    "                samples_dict['bed_dip_direction'].append(str(float(strike)+90))\n",
    "                dip = header[4]\n",
    "                samples_dict['bed_dip'].append(dip)\n",
    "                volume = header[5]\n",
    "                specimens_dict['volume'].append(str(float(volume)/10**6)) # m^3\n",
    "            else:\n",
    "                measurement = measurement_data[i].split()\n",
    "                measurement_dict['sequence'].append(str(i+1))\n",
    "                measurement_dict['citations'].append('This study')\n",
    "                measurement_dict['specimen'].append(name)\n",
    "                treat = measurement[0]\n",
    "                if treatment == 'THD':\n",
    "                    measurement_dict['treat_temp'].append(str(float(treat)+273)) # K\n",
    "                    measurement_dict['meas_temp'].append(str(273)) # K\n",
    "                    measurement_dict['treat_ac_field'].append(str(0)) # T\n",
    "                    measurement_dict['method_codes'].append('LT-T-Z')\n",
    "                    measurement_dict['experiment'].append(name+'-'+'LP-DIR-T')\n",
    "                    measurement_dict['measurement'].append(name+'-'+'LP-DIR-T'+'-'+str(i))\n",
    "                    \n",
    "                elif treatment == 'AFD':\n",
    "                    measurement_dict['treat_temp'].append(str(273)) # K\n",
    "                    measurement_dict['meas_temp'].append(str(273)) # K\n",
    "                    measurement_dict['treat_ac_field'].append(str(float(treat)/10**3)) # T\n",
    "                    measurement_dict['method_codes'].append('LT-AF-Z')\n",
    "                    measurement_dict['experiment'].append(name+'-'+'LP-DIR-AF')\n",
    "                    measurement_dict['measurement'].append(name+'-'+'LP-DIR-AF'+'-'+str(i))\n",
    "                \n",
    "                intensity = measurement[1] # mA/m\n",
    "                measurement_dict['magn_volume'].append(str(float(intensity)/10**3)) # A/m\n",
    "                measurement_dict['magn_moment'].append(str((float(intensity)/10**3)*(float(volume)/10**6))) # Am^2\n",
    "                GDec = (measurement[2]) # not needed for demag GUI\n",
    "                GInc = (measurement[3]) # not needed for demag GUI\n",
    "                a95 = measurement[4]\n",
    "                measurement_dict['dir_csd'].append(a95)\n",
    "                CDec = measurement[5]\n",
    "                measurement_dict['dir_dec'].append(CDec)\n",
    "                CInc = measurement[6]\n",
    "                measurement_dict['dir_inc'].append(CInc)\n",
    "                measurement_dict['instrument_codes'].append('Molspin')\n",
    "\n",
    "print('Specimens for site', site_name, 'added successfully')"
   ]
  },
  {
   "cell_type": "markdown",
   "id": "e6a7f95d",
   "metadata": {},
   "source": [
    "### Write MagIC formatted files\n",
    "\n",
    "Run cell after all experiments of the current location have been added using the cell above "
   ]
  },
  {
   "cell_type": "code",
   "execution_count": 9,
   "id": "9c3f470a",
   "metadata": {},
   "outputs": [
    {
     "name": "stdout",
     "output_type": "stream",
     "text": [
      "Files for demag GUI saved to C:\\Users\\jmeer\\PmagPy\n"
     ]
    }
   ],
   "source": [
    "# save files for demag_gui\n",
    "\n",
    "with open('./sites.txt', 'w') as sites_file:\n",
    "    sites_file.write('tab\\tsites\\n')\n",
    "sites_df = pd.DataFrame(sites_dict)\n",
    "sites_df.to_csv('./sites.txt',mode='a',index=False,sep='\\t')\n",
    "    \n",
    "with open('./samples.txt', 'w') as samples_file:\n",
    "    samples_file.write('tab\\tsamples\\n')\n",
    "samples_df = pd.DataFrame(samples_dict)\n",
    "samples_df.to_csv('./samples.txt',mode='a',index=False,sep='\\t')\n",
    "\n",
    "with open('./specimens.txt', 'w') as specimens_file:\n",
    "    specimens_file.write('tab\\tspecimens\\n')\n",
    "specimens_df = pd.DataFrame(specimens_dict)\n",
    "specimens_df.to_csv('./specimens.txt',mode='a',index=False,sep='\\t')\n",
    "\n",
    "with open('./measurements.txt', 'w') as measurements_file:\n",
    "    measurements_file.write('tab\\tmeasurements\\n')\n",
    "measurement_df = pd.DataFrame(measurement_dict)\n",
    "measurement_df.to_csv('./measurements.txt',mode='a',index=False,sep='\\t')\n",
    "\n",
    "print('Files for demag GUI saved to', os.getcwd())"
   ]
  },
  {
   "cell_type": "code",
   "execution_count": null,
   "id": "c455aa45",
   "metadata": {},
   "outputs": [],
   "source": []
  }
 ],
 "metadata": {
  "kernelspec": {
   "display_name": "Python 3 (ipykernel)",
   "language": "python",
   "name": "python3"
  },
  "language_info": {
   "codemirror_mode": {
    "name": "ipython",
    "version": 3
   },
   "file_extension": ".py",
   "mimetype": "text/x-python",
   "name": "python",
   "nbconvert_exporter": "python",
   "pygments_lexer": "ipython3",
   "version": "3.10.9"
  }
 },
 "nbformat": 4,
 "nbformat_minor": 5
}
